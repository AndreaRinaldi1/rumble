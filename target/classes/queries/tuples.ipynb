{
 "cells": [
  {
   "cell_type": "code",
   "execution_count": 2,
   "metadata": {
    "collapsed": true
   },
   "outputs": [],
   "source": [
    "# 1\n",
    "# {\"guess\" : \"Latvian\",\"target\" : \"Russian\",\"country\" : \"AU\",\"choices\" : [ \"Lao\", \"Latvian\", \"Russian\", \"Swahili\" ],\n",
    "#   \"sample\" : \"b7df3f9d67cef259fbcaa5abcad9d774\", \"date\" : \"2013-08-20\"},\n",
    "# 2\n",
    "# {\"guess\" : \"Russian\",\"target\" : \"Russian\", \"country\" : \"AU\",\"choices\" : [ \"Croatian\", \"Nepali\", \"Russian\", \"Slovenian\" ],\n",
    "# \"sample\" : \"8a59d48e99e8a1df7e366c4648095e27\",\"date\" : \"2013-08-20\"},\n",
    "# 3\n",
    "# { \"guess\" : \"Czech\",\"target\" : \"Czech\",\"country\" : \"SE\", \"choices\" : [ \"Maori\", \"Czech\", \"Korean\", \"Turkish\" ],\n",
    "#   \"sample\" : \"1787b5c79a00b3513ce76847bc1f5b75\", \"date\" : \"2013-08-20\"}\n",
    "# 4\n",
    "# {\"guess\" : \"Greek\",\"target\" : \"Serbian\",\"country\" : \"SE\",\"choices\" : [ \"German\", \"Greek\", \"Kannada\", \"Serbian\" ],\n",
    "#   \"sample\" : \"0d5b697ebb326b5043ce7fa60a7b968d\",\"date\" : \"2013-08-20\"},\n",
    "# 5\n",
    "# { \"guess\" : \"Serbian\",\"target\" : \"Serbian\",\"country\" : \"AU\",\"choices\" : [ \"Dari\", \"Serbian\", \"Sinhalese\", \"Vietnamese\" ],\n",
    "#   \"sample\" : \"0d5b697ebb326b5043ce7fa60a7b968d\",\"date\" : \"2013-08-20\"}\n",
    "\n",
    "\n",
    "# 1)\n",
    "# for $item in jn:parse-json(f:read-text(\"confusion_sample.json\"))\n",
    "# return $item\n",
    "# 2) filter()\n",
    "# for $item in jn:parse-json(f:read-text(\"confusion_sample.json\"))\n",
    "# where $item.\"country\" eq \"AU\"\n",
    "# return $item\n",
    "# 3)\n",
    "# for $item in jn:parse-json(f:read-text(\"confusion_sample.json\"))\n",
    "# where $item.\"choices\"[[1]] eq \"German\"\n",
    "# return $item\n",
    "# 4)\n",
    "# for $item in jn:parse-json(f:read-text(\"confusion_sample.json\"))\n",
    "# let $guess := $item.\"guess\", $target := $item.\"target\"\n",
    "# where $guess eq $target\n",
    "# return $item\n",
    "# 5)\n",
    "# for $item in jn:parse-json(f:read-text(\"confusion_sample.json\"))\n",
    "# order by $item.target\n",
    "# return $item\n",
    "# 6)\n",
    "# for $item in jn:parse-json(f:read-text(\"confusion_sample.json\"))\n",
    "# group by $target := $item.target\n",
    "# return { \"target\" :$target,\n",
    "#          \"count\": count($item)}\n",
    "\n",
    "# 8)\n",
    "#  let $counts := \n",
    "#         (for $item in jn:parse-json(f:read-text(\"conf-ex.json\"))\n",
    "#         let $guess := $item.\"guess\", $target := $item.\"target\"\n",
    "#         group by $target\n",
    "#         return {\"Language\": $target,\n",
    "#                 \"Guesses\": count($item)})\n",
    "# let $correct := (\n",
    "#         for $item in jn:parse-json(f:read-text(\"conf-ex.json\"))\n",
    "#         let $guess := $item.\"guess\", $target := $item.\"target\"\n",
    "#         where $guess eq $target\n",
    "#         group by $target\n",
    "#         return {\"Language\": $target,\n",
    "#                 \"Correct guesses\": count($item)})\n",
    "# for $c in $correct, $i in $counts\n",
    "# where $c.\"Language\" eq $i.\"Language\"\n",
    "# return {\"Language\": $c.\"Language\",\n",
    "#         \"Correct/Total guesses\": ($c.\"Correct guesses\" div $i.\"Guesses\")}"
   ]
  },
  {
   "cell_type": "code",
   "execution_count": 3,
   "metadata": {
    "collapsed": false,
    "deletable": true,
    "editable": true,
    "scrolled": false
   },
   "outputs": [
    {
     "data": {
      "text/plain": [
       "[{u'choices': [u'Lao', u'Latvian', u'Russian', u'Swahili'],\n",
       "  u'country': u'AU',\n",
       "  u'date': u'2013-08-20',\n",
       "  u'guess': u'Latvian',\n",
       "  u'sample': u'b7df3f9d67cef259fbcaa5abcad9d774',\n",
       "  u'target': u'Russian'},\n",
       " {u'choices': [u'Croatian', u'Nepali', u'Russian', u'Slovenian'],\n",
       "  u'country': u'AU',\n",
       "  u'date': u'2013-08-20',\n",
       "  u'guess': u'Russian',\n",
       "  u'sample': u'8a59d48e99e8a1df7e366c4648095e27',\n",
       "  u'target': u'Russian'},\n",
       " {u'choices': [u'Maori', u'Czech', u'Korean', u'Turkish'],\n",
       "  u'country': u'SE',\n",
       "  u'date': u'2013-08-20',\n",
       "  u'guess': u'Czech',\n",
       "  u'sample': u'1787b5c79a00b3513ce76847bc1f5b75',\n",
       "  u'target': u'Czech'},\n",
       " {u'choices': [u'German', u'Greek', u'Kannada', u'Serbian'],\n",
       "  u'country': u'SE',\n",
       "  u'date': u'2013-08-20',\n",
       "  u'guess': u'Greek',\n",
       "  u'sample': u'0d5b697ebb326b5043ce7fa60a7b968d',\n",
       "  u'target': u'Serbian'},\n",
       " {u'choices': [u'Dari', u'Serbian', u'Sinhalese', u'Vietnamese'],\n",
       "  u'country': u'AU',\n",
       "  u'date': u'2013-08-20',\n",
       "  u'guess': u'Serbian',\n",
       "  u'sample': u'0d5b697ebb326b5043ce7fa60a7b968d',\n",
       "  u'target': u'Serbian'}]"
      ]
     },
     "execution_count": 3,
     "metadata": {},
     "output_type": "execute_result"
    }
   ],
   "source": [
    "#1\n",
    "import json\n",
    "sc\n",
    "filePath=\"file:///home/stefan/Work/ETH/Thesis/zorba/conf-ex.json\"\n",
    "input = sc.textFile(filePath)\n",
    "data = input.map(lambda x: json.loads(x))\n",
    "data = data.map(lambda x: {'item': x})\n",
    "data = data.map(lambda x: x['item'])\n",
    "data.collect()"
   ]
  },
  {
   "cell_type": "code",
   "execution_count": 4,
   "metadata": {
    "collapsed": false,
    "deletable": true,
    "editable": true
   },
   "outputs": [
    {
     "data": {
      "text/plain": [
       "[{u'choices': [u'Lao', u'Latvian', u'Russian', u'Swahili'],\n",
       "  u'country': u'AU',\n",
       "  u'date': u'2013-08-20',\n",
       "  u'guess': u'Latvian',\n",
       "  u'sample': u'b7df3f9d67cef259fbcaa5abcad9d774',\n",
       "  u'target': u'Russian'},\n",
       " {u'choices': [u'Croatian', u'Nepali', u'Russian', u'Slovenian'],\n",
       "  u'country': u'AU',\n",
       "  u'date': u'2013-08-20',\n",
       "  u'guess': u'Russian',\n",
       "  u'sample': u'8a59d48e99e8a1df7e366c4648095e27',\n",
       "  u'target': u'Russian'},\n",
       " {u'choices': [u'Dari', u'Serbian', u'Sinhalese', u'Vietnamese'],\n",
       "  u'country': u'AU',\n",
       "  u'date': u'2013-08-20',\n",
       "  u'guess': u'Serbian',\n",
       "  u'sample': u'0d5b697ebb326b5043ce7fa60a7b968d',\n",
       "  u'target': u'Serbian'}]"
      ]
     },
     "execution_count": 4,
     "metadata": {},
     "output_type": "execute_result"
    }
   ],
   "source": [
    "#2\n",
    "data = input.map(lambda x: json.loads(x))\n",
    "data = data.map(lambda x: {'item': x})\n",
    "data = data.filter(lambda x: x['item']['country']=='AU')\n",
    "data = data.map(lambda x: x['item'])\n",
    "data.collect()"
   ]
  },
  {
   "cell_type": "code",
   "execution_count": 5,
   "metadata": {
    "collapsed": false,
    "deletable": true,
    "editable": true
   },
   "outputs": [
    {
     "data": {
      "text/plain": [
       "[{u'choices': [u'German', u'Greek', u'Kannada', u'Serbian'],\n",
       "  u'country': u'SE',\n",
       "  u'date': u'2013-08-20',\n",
       "  u'guess': u'Greek',\n",
       "  u'sample': u'0d5b697ebb326b5043ce7fa60a7b968d',\n",
       "  u'target': u'Serbian'}]"
      ]
     },
     "execution_count": 5,
     "metadata": {},
     "output_type": "execute_result"
    }
   ],
   "source": [
    "#3\n",
    "data = input.map(lambda x: json.loads(x))\n",
    "data = data.map(lambda x: {'item': x})\n",
    "data = data.filter(lambda x: x['item']['choices'][0]=='German')\n",
    "data = data.map(lambda x: x['item'])\n",
    "data.collect()"
   ]
  },
  {
   "cell_type": "code",
   "execution_count": 6,
   "metadata": {
    "collapsed": false,
    "deletable": true,
    "editable": true
   },
   "outputs": [
    {
     "data": {
      "text/plain": [
       "[{u'choices': [u'Croatian', u'Nepali', u'Russian', u'Slovenian'],\n",
       "  u'country': u'AU',\n",
       "  u'date': u'2013-08-20',\n",
       "  u'guess': u'Russian',\n",
       "  u'sample': u'8a59d48e99e8a1df7e366c4648095e27',\n",
       "  u'target': u'Russian'},\n",
       " {u'choices': [u'Maori', u'Czech', u'Korean', u'Turkish'],\n",
       "  u'country': u'SE',\n",
       "  u'date': u'2013-08-20',\n",
       "  u'guess': u'Czech',\n",
       "  u'sample': u'1787b5c79a00b3513ce76847bc1f5b75',\n",
       "  u'target': u'Czech'},\n",
       " {u'choices': [u'Dari', u'Serbian', u'Sinhalese', u'Vietnamese'],\n",
       "  u'country': u'AU',\n",
       "  u'date': u'2013-08-20',\n",
       "  u'guess': u'Serbian',\n",
       "  u'sample': u'0d5b697ebb326b5043ce7fa60a7b968d',\n",
       "  u'target': u'Serbian'}]"
      ]
     },
     "execution_count": 6,
     "metadata": {},
     "output_type": "execute_result"
    }
   ],
   "source": [
    "#4\n",
    "data = input.map(lambda x: json.loads(x))\n",
    "data = data.map(lambda x: {'item': x})\n",
    "data = data.map(lambda x: {'item': x['item'], 'target': x['item']['target'], 'guess': x['item']['guess']})\n",
    "data = data.filter(lambda x: x['target']==x['guess'])\n",
    "data = data.map(lambda x: x['item'])\n",
    "data.collect()"
   ]
  },
  {
   "cell_type": "code",
   "execution_count": 7,
   "metadata": {
    "collapsed": false,
    "deletable": true,
    "editable": true
   },
   "outputs": [
    {
     "data": {
      "text/plain": [
       "[{u'choices': [u'Maori', u'Czech', u'Korean', u'Turkish'],\n",
       "  u'country': u'SE',\n",
       "  u'date': u'2013-08-20',\n",
       "  u'guess': u'Czech',\n",
       "  u'sample': u'1787b5c79a00b3513ce76847bc1f5b75',\n",
       "  u'target': u'Czech'},\n",
       " {u'choices': [u'Lao', u'Latvian', u'Russian', u'Swahili'],\n",
       "  u'country': u'AU',\n",
       "  u'date': u'2013-08-20',\n",
       "  u'guess': u'Latvian',\n",
       "  u'sample': u'b7df3f9d67cef259fbcaa5abcad9d774',\n",
       "  u'target': u'Russian'},\n",
       " {u'choices': [u'Croatian', u'Nepali', u'Russian', u'Slovenian'],\n",
       "  u'country': u'AU',\n",
       "  u'date': u'2013-08-20',\n",
       "  u'guess': u'Russian',\n",
       "  u'sample': u'8a59d48e99e8a1df7e366c4648095e27',\n",
       "  u'target': u'Russian'},\n",
       " {u'choices': [u'German', u'Greek', u'Kannada', u'Serbian'],\n",
       "  u'country': u'SE',\n",
       "  u'date': u'2013-08-20',\n",
       "  u'guess': u'Greek',\n",
       "  u'sample': u'0d5b697ebb326b5043ce7fa60a7b968d',\n",
       "  u'target': u'Serbian'},\n",
       " {u'choices': [u'Dari', u'Serbian', u'Sinhalese', u'Vietnamese'],\n",
       "  u'country': u'AU',\n",
       "  u'date': u'2013-08-20',\n",
       "  u'guess': u'Serbian',\n",
       "  u'sample': u'0d5b697ebb326b5043ce7fa60a7b968d',\n",
       "  u'target': u'Serbian'}]"
      ]
     },
     "execution_count": 7,
     "metadata": {},
     "output_type": "execute_result"
    }
   ],
   "source": [
    "#5\n",
    "data = input.map(lambda x: json.loads(x))\n",
    "data = data.map(lambda x: {'item': x})\n",
    "data = data.map(lambda x: (x['item']['target'], x)).sortByKey()\n",
    "data = data.map(lambda (key,x): x['item'])\n",
    "data.collect()"
   ]
  },
  {
   "cell_type": "code",
   "execution_count": 8,
   "metadata": {
    "collapsed": false,
    "deletable": true,
    "editable": true,
    "scrolled": true
   },
   "outputs": [
    {
     "data": {
      "text/plain": [
       "['{\"count\": 2, \"key\": \"Russian\"}',\n",
       " '{\"count\": 1, \"key\": \"Czech\"}',\n",
       " '{\"count\": 2, \"key\": \"Serbian\"}']"
      ]
     },
     "execution_count": 8,
     "metadata": {},
     "output_type": "execute_result"
    }
   ],
   "source": [
    "#6\n",
    "data = input.map(lambda x: json.loads(x))\n",
    "data = data.map(lambda x: {'item': x})\n",
    "data = data.map(lambda x: (x['item']['target'], x)).groupByKey()\n",
    "data = data.map(lambda (key, objects): json.dumps({'key' :key, 'count' :len(objects)}))\n",
    "data.collect()"
   ]
  },
  {
   "cell_type": "code",
   "execution_count": 9,
   "metadata": {
    "collapsed": false,
    "deletable": true,
    "editable": true
   },
   "outputs": [],
   "source": [
    "#7"
   ]
  },
  {
   "cell_type": "code",
   "execution_count": 10,
   "metadata": {
    "collapsed": false,
    "deletable": true,
    "editable": true
   },
   "outputs": [
    {
     "data": {
      "text/plain": [
       "['{\"Correct/Total\": 0.5, \"Language\": \"Russian\"}',\n",
       " '{\"Correct/Total\": 1.0, \"Language\": \"Czech\"}',\n",
       " '{\"Correct/Total\": 0.5, \"Language\": \"Serbian\"}']"
      ]
     },
     "execution_count": 10,
     "metadata": {},
     "output_type": "execute_result"
    }
   ],
   "source": [
    "#8\n",
    "#load data somehow - assume this is a function call\n",
    "data = input.map(lambda x: json.loads(x))\n",
    "data = data.map(lambda x: {'item': x})\n",
    "#let\n",
    "counts = data.map(lambda x: {'item': x['item'], 'target': x['item']['target'], 'guess': x['item']['guess']}) \\\n",
    ".map(lambda x : (x['item']['target'], x)).groupByKey() \\\n",
    ".map(lambda (key, objects): json.dumps({'key' :key, 'count' :len(objects)}))\n",
    "\n",
    "#let                                                      #where                 #groupby\n",
    "correct = data.map(lambda x: {'item': x['item'], 'target': x['item']['target'], 'guess': x['item']['guess']}). \\\n",
    "filter(lambda x: x['target']==x['guess']). \\\n",
    "map(lambda x : (x['target'], x)).groupByKey() \\\n",
    ".map(lambda (key, objects): json.dumps({'key' :key, 'count' :len(objects)}))\n",
    "\n",
    "#counts.collect()\n",
    "#correct.collect()\n",
    "counts = counts.map(lambda x: json.loads(x))\n",
    "correct = correct.map(lambda x: json.loads(x))\n",
    "#double for\n",
    "join = counts.cartesian(correct).filter(lambda (i,c): i['key']==c['key']) \\\n",
    ".map(lambda (i,c): json.dumps({'Language': c['key'], 'Correct/Total': 1.0 * c['count']/i['count']}))\n",
    "join.collect()"
   ]
  },
  {
   "cell_type": "code",
   "execution_count": null,
   "metadata": {
    "collapsed": true,
    "deletable": true,
    "editable": true
   },
   "outputs": [],
   "source": [
    ""
   ]
  }
 ],
 "metadata": {
  "kernelspec": {
   "display_name": "Python 2",
   "language": "python",
   "name": "python2"
  },
  "language_info": {
   "codemirror_mode": {
    "name": "ipython",
    "version": 2.0
   },
   "file_extension": ".py",
   "mimetype": "text/x-python",
   "name": "python",
   "nbconvert_exporter": "python",
   "pygments_lexer": "ipython2",
   "version": "2.7.12"
  }
 },
 "nbformat": 4,
 "nbformat_minor": 0
}